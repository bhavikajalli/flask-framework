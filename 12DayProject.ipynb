{
 "cells": [
  {
   "cell_type": "code",
   "execution_count": 1,
   "metadata": {
    "collapsed": true
   },
   "outputs": [],
   "source": [
    "#import quandl\n",
    "import requests\n",
    "from requests.auth import HTTPBasicAuth\n",
    "#import simplejson as json\n",
    "import json\n",
    "import pandas as pd\n",
    "from bokeh.plotting import figure\n",
    "from bokeh.io import show, output_notebook\n",
    "from bokeh.models import ColumnDataSource\n",
    "import bokeh"
   ]
  },
  {
   "cell_type": "code",
   "execution_count": 2,
   "metadata": {
    "collapsed": true
   },
   "outputs": [],
   "source": [
    "payload = ('bhavikaj@gmail.com','bhavikaj-di')\n",
    "ticker = 'GOOG'\n",
    "url = 'https://www.quandl.com/api/v3/datatables/WIKI/PRICES.json?ticker='+ticker+'&api_key=BQR2bnRMkoJwe8QVn_6_'\n",
    "req = requests.get(url, auth=HTTPBasicAuth('bhavikaj@gmail.com','bhavikaj-di'))"
   ]
  },
  {
   "cell_type": "code",
   "execution_count": 3,
   "metadata": {},
   "outputs": [
    {
     "name": "stdout",
     "output_type": "stream",
     "text": [
      "utf-8\n",
      "200\n",
      "0:00:00.220539\n",
      "https://www.quandl.com/api/v3/datatables/WIKI/PRICES.json?ticker=GOOG&api_key=BQR2bnRMkoJwe8QVn_6_\n",
      "[]\n",
      "application/json; charset=utf-8\n"
     ]
    }
   ],
   "source": [
    "print(req.encoding)      # returns 'utf-8'\n",
    "print(req.status_code)   # returns 200\n",
    "print(req.elapsed)       # returns datetime.timedelta(0, 1, 666890)\n",
    "print(req.url)           # returns 'https://tutsplus.com/'\n",
    "\n",
    "print(req.history)      \n",
    "# returns [<Response [301]>, <Response [301]>]\n",
    "\n",
    "print(req.headers['Content-Type'])\n",
    "# returns 'text/html; charset=utf-8'"
   ]
  },
  {
   "cell_type": "code",
   "execution_count": 4,
   "metadata": {
    "collapsed": true
   },
   "outputs": [],
   "source": [
    "data_dict = req.json()\n",
    "# temp = json.dumps(data_dict)\n",
    "# ticker_data = json.dumps(temp)"
   ]
  },
  {
   "cell_type": "code",
   "execution_count": 5,
   "metadata": {
    "collapsed": true
   },
   "outputs": [],
   "source": [
    "columns = []\n",
    "temp = data_dict['datatable']['columns']\n",
    "for item in temp:\n",
    "    columns.append(item['name'])"
   ]
  },
  {
   "cell_type": "code",
   "execution_count": 6,
   "metadata": {},
   "outputs": [
    {
     "data": {
      "text/plain": [
       "['ticker',\n",
       " 'date',\n",
       " 'open',\n",
       " 'high',\n",
       " 'low',\n",
       " 'close',\n",
       " 'volume',\n",
       " 'ex-dividend',\n",
       " 'split_ratio',\n",
       " 'adj_open',\n",
       " 'adj_high',\n",
       " 'adj_low',\n",
       " 'adj_close',\n",
       " 'adj_volume']"
      ]
     },
     "execution_count": 6,
     "metadata": {},
     "output_type": "execute_result"
    }
   ],
   "source": [
    "columns"
   ]
  },
  {
   "cell_type": "code",
   "execution_count": 7,
   "metadata": {
    "collapsed": true
   },
   "outputs": [],
   "source": [
    "data = []\n",
    "for i in range(len(data_dict['datatable']['data'])):\n",
    "    data.append(data_dict['datatable']['data'][i])"
   ]
  },
  {
   "cell_type": "code",
   "execution_count": 8,
   "metadata": {},
   "outputs": [
    {
     "data": {
      "text/plain": [
       "1007"
      ]
     },
     "execution_count": 8,
     "metadata": {},
     "output_type": "execute_result"
    }
   ],
   "source": [
    "data_df = pd.DataFrame(data, columns=columns)\n",
    "len(data_df)"
   ]
  },
  {
   "cell_type": "code",
   "execution_count": 9,
   "metadata": {},
   "outputs": [
    {
     "data": {
      "text/html": [
       "<div>\n",
       "<style scoped>\n",
       "    .dataframe tbody tr th:only-of-type {\n",
       "        vertical-align: middle;\n",
       "    }\n",
       "\n",
       "    .dataframe tbody tr th {\n",
       "        vertical-align: top;\n",
       "    }\n",
       "\n",
       "    .dataframe thead th {\n",
       "        text-align: right;\n",
       "    }\n",
       "</style>\n",
       "<table border=\"1\" class=\"dataframe\">\n",
       "  <thead>\n",
       "    <tr style=\"text-align: right;\">\n",
       "      <th></th>\n",
       "      <th>ticker</th>\n",
       "      <th>date</th>\n",
       "      <th>open</th>\n",
       "      <th>high</th>\n",
       "      <th>low</th>\n",
       "      <th>close</th>\n",
       "      <th>volume</th>\n",
       "      <th>ex-dividend</th>\n",
       "      <th>split_ratio</th>\n",
       "      <th>adj_open</th>\n",
       "      <th>adj_high</th>\n",
       "      <th>adj_low</th>\n",
       "      <th>adj_close</th>\n",
       "      <th>adj_volume</th>\n",
       "    </tr>\n",
       "  </thead>\n",
       "  <tbody>\n",
       "    <tr>\n",
       "      <th>0</th>\n",
       "      <td>GOOG</td>\n",
       "      <td>2014-03-27</td>\n",
       "      <td>568.000</td>\n",
       "      <td>568.00</td>\n",
       "      <td>552.92</td>\n",
       "      <td>558.46</td>\n",
       "      <td>13100.0</td>\n",
       "      <td>0.0</td>\n",
       "      <td>1.0</td>\n",
       "      <td>568.000</td>\n",
       "      <td>568.00</td>\n",
       "      <td>552.92</td>\n",
       "      <td>558.46</td>\n",
       "      <td>13100.0</td>\n",
       "    </tr>\n",
       "    <tr>\n",
       "      <th>1</th>\n",
       "      <td>GOOG</td>\n",
       "      <td>2014-03-28</td>\n",
       "      <td>561.200</td>\n",
       "      <td>566.43</td>\n",
       "      <td>558.67</td>\n",
       "      <td>559.99</td>\n",
       "      <td>41100.0</td>\n",
       "      <td>0.0</td>\n",
       "      <td>1.0</td>\n",
       "      <td>561.200</td>\n",
       "      <td>566.43</td>\n",
       "      <td>558.67</td>\n",
       "      <td>559.99</td>\n",
       "      <td>41100.0</td>\n",
       "    </tr>\n",
       "    <tr>\n",
       "      <th>2</th>\n",
       "      <td>GOOG</td>\n",
       "      <td>2014-03-31</td>\n",
       "      <td>566.890</td>\n",
       "      <td>567.00</td>\n",
       "      <td>556.93</td>\n",
       "      <td>556.97</td>\n",
       "      <td>10800.0</td>\n",
       "      <td>0.0</td>\n",
       "      <td>1.0</td>\n",
       "      <td>566.890</td>\n",
       "      <td>567.00</td>\n",
       "      <td>556.93</td>\n",
       "      <td>556.97</td>\n",
       "      <td>10800.0</td>\n",
       "    </tr>\n",
       "    <tr>\n",
       "      <th>3</th>\n",
       "      <td>GOOG</td>\n",
       "      <td>2014-04-01</td>\n",
       "      <td>558.710</td>\n",
       "      <td>568.45</td>\n",
       "      <td>558.71</td>\n",
       "      <td>567.16</td>\n",
       "      <td>7900.0</td>\n",
       "      <td>0.0</td>\n",
       "      <td>1.0</td>\n",
       "      <td>558.710</td>\n",
       "      <td>568.45</td>\n",
       "      <td>558.71</td>\n",
       "      <td>567.16</td>\n",
       "      <td>7900.0</td>\n",
       "    </tr>\n",
       "    <tr>\n",
       "      <th>4</th>\n",
       "      <td>GOOG</td>\n",
       "      <td>2014-04-02</td>\n",
       "      <td>565.106</td>\n",
       "      <td>604.83</td>\n",
       "      <td>562.19</td>\n",
       "      <td>567.00</td>\n",
       "      <td>146700.0</td>\n",
       "      <td>0.0</td>\n",
       "      <td>1.0</td>\n",
       "      <td>565.106</td>\n",
       "      <td>604.83</td>\n",
       "      <td>562.19</td>\n",
       "      <td>567.00</td>\n",
       "      <td>146700.0</td>\n",
       "    </tr>\n",
       "  </tbody>\n",
       "</table>\n",
       "</div>"
      ],
      "text/plain": [
       "  ticker        date     open    high     low   close    volume  ex-dividend  \\\n",
       "0   GOOG  2014-03-27  568.000  568.00  552.92  558.46   13100.0          0.0   \n",
       "1   GOOG  2014-03-28  561.200  566.43  558.67  559.99   41100.0          0.0   \n",
       "2   GOOG  2014-03-31  566.890  567.00  556.93  556.97   10800.0          0.0   \n",
       "3   GOOG  2014-04-01  558.710  568.45  558.71  567.16    7900.0          0.0   \n",
       "4   GOOG  2014-04-02  565.106  604.83  562.19  567.00  146700.0          0.0   \n",
       "\n",
       "   split_ratio  adj_open  adj_high  adj_low  adj_close  adj_volume  \n",
       "0          1.0   568.000    568.00   552.92     558.46     13100.0  \n",
       "1          1.0   561.200    566.43   558.67     559.99     41100.0  \n",
       "2          1.0   566.890    567.00   556.93     556.97     10800.0  \n",
       "3          1.0   558.710    568.45   558.71     567.16      7900.0  \n",
       "4          1.0   565.106    604.83   562.19     567.00    146700.0  "
      ]
     },
     "execution_count": 9,
     "metadata": {},
     "output_type": "execute_result"
    }
   ],
   "source": [
    "data_df.head()"
   ]
  },
  {
   "cell_type": "code",
   "execution_count": null,
   "metadata": {
    "collapsed": true
   },
   "outputs": [],
   "source": [
    "##Plotting\n",
    "import numpy as np\n",
    "\n",
    "from bokeh.layouts import gridplot\n",
    "from bokeh.plotting import figure, show, output_file\n",
    "\n",
    "def datetime(x):\n",
    "    return np.array(x, dtype=np.datetime64)\n",
    "\n",
    "p1 = figure(x_axis_type=\"datetime\", title=\"Stock Closing Prices\")\n",
    "p1.grid.grid_line_alpha=0.3\n",
    "p1.xaxis.axis_label = 'Date'\n",
    "p1.yaxis.axis_label = 'Price'\n",
    "\n",
    "p1.line(datetime(data_df['date']), data_df['adj_close'], color='#A6CEE3', legend='GOOG')\n",
    "p1.legend.location = \"top_left\"\n",
    "\n",
    "show(p1)\n",
    "# aapl = np.array(data_df['adj_close'])\n",
    "# aapl_dates = np.array(data_df['date'], dtype=np.datetime64)\n",
    "\n",
    "# window_size = 30\n",
    "# window = np.ones(window_size)/float(window_size)\n",
    "# aapl_avg = np.convolve(aapl, window, 'same')\n",
    "\n",
    "# p2 = figure(x_axis_type=\"datetime\", title=\"AAPL One-Month Average\")\n",
    "# p2.grid.grid_line_alpha = 0\n",
    "# p2.xaxis.axis_label = 'Date'\n",
    "# p2.yaxis.axis_label = 'Price'\n",
    "# p2.ygrid.band_fill_color = \"olive\"\n",
    "# p2.ygrid.band_fill_alpha = 0.1\n",
    "\n",
    "# p2.circle(aapl_dates, aapl, size=4, legend='close',\n",
    "#           color='darkgrey', alpha=0.2)\n",
    "\n",
    "# p2.line(aapl_dates, aapl_avg, legend='avg', color='navy')\n",
    "# p2.legend.location = \"top_left\"\n",
    "\n",
    "#show(gridplot([[p1,p2]], plot_width=400, plot_height=400))  "
   ]
  },
  {
   "cell_type": "code",
   "execution_count": null,
   "metadata": {
    "collapsed": true
   },
   "outputs": [],
   "source": []
  }
 ],
 "metadata": {
  "kernelspec": {
   "display_name": "Python 3",
   "language": "python",
   "name": "python3"
  },
  "language_info": {
   "codemirror_mode": {
    "name": "ipython",
    "version": 3
   },
   "file_extension": ".py",
   "mimetype": "text/x-python",
   "name": "python",
   "nbconvert_exporter": "python",
   "pygments_lexer": "ipython3",
   "version": "3.6.2"
  }
 },
 "nbformat": 4,
 "nbformat_minor": 2
}
